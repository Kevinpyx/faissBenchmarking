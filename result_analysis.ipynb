{
 "cells": [
  {
   "cell_type": "markdown",
   "metadata": {},
   "source": [
    "### **Introduction** ### \n",
    "In this document, we analyze and illustrate the results from ANNS benchmarking. \n",
    "\n",
    "#### **Benchmarking Specifications** ####\n",
    "##### Dataset #####\n",
    "The dataset used for benchmarking is a 10M slice of [Yandex DEEP-1B](https://research.yandex.com/blog/benchmarks-for-billion-scale-similarity-search) image descriptor dataset consisting of the projected and normalized outputs from the last fully-connected layer of the GoogLeNet model, which was pretrained on the Imagenet classification task. The query vectors used are also from Yandex, which can be accessed here: https://storage.yandexcloud.net/yandex-research/ann-datasets/DEEP/query.public.10K.fbin\n",
    "- Datatype: float32\n",
    "- Demension: 96\n",
    "- Distance: L2\n",
    "\n",
    "##### Machine Specifications #####\n",
    "\n",
    "| Machine | CPU | Memory | GPU | GPU Memory |\n",
    "|   ---   | --- |   ---  | --- |     ---    |\n",
    "\n",
    "\n",
    "##### Metrics #####\n",
    "- Efficiency: Search time in SPQ (Second Per Query)\n",
    "- Accuracy: Recall@1 (Recall of the nearest neighbor)\n",
    "- Memory: Memory Usage (Memory used by the ANN index)"
   ]
  },
  {
   "cell_type": "markdown",
   "metadata": {},
   "source": [
    "### **Result Analysis** ###"
   ]
  },
  {
   "cell_type": "code",
   "execution_count": 2,
   "metadata": {},
   "outputs": [],
   "source": [
    "# import packages\n",
    "import dataI_O as io\n",
    "import numpy as np\n",
    "import matplotlib.pyplot as plt"
   ]
  },
  {
   "cell_type": "markdown",
   "metadata": {},
   "source": [
    "#### **Baseline index: FlatL2** ####\n",
    "FlatL2 is the baseline index for the benchmarking. It is a brute-force nearest neighbor search index that computes the distance between every query vector and all the vectors in the dataset. The results are shown below:"
   ]
  },
  {
   "cell_type": "code",
   "execution_count": 17,
   "metadata": {},
   "outputs": [
    {
     "name": "stdout",
     "output_type": "stream",
     "text": [
      "Shape of result array: (10, 1, 1, 6)\n",
      "Shape of average result array: (1, 1, 6)\n",
      "\n",
      "FlatL2 results:\n",
      "- Training time: 0.00s\n",
      "- Adding time: 0.76s\n",
      "- Total search time: 356.80s\n",
      "- Time per query: 0.36ms\n",
      "- Memory Usage: 7412.30MB\n",
      "- Recall@1: 100.0%\n"
     ]
    }
   ],
   "source": [
    "# read FlatL2 results\n",
    "FlatL2_results = '/home/ypx/faissTesting/benchmark/results/FlatL2_10M_96_10k_100.h5'\n",
    "FlatL2_results = io.load_results(FlatL2_results)\n",
    "print('Shape of result array:', FlatL2_results.shape) \n",
    "# first dim: number of runs\n",
    "# second dim: param1 (N/A)\n",
    "# third dim: param2 (N/A)\n",
    "# fourth dim: [training_time, adding_time, total_search_time, time_per_vec, memory, hit_rates]\n",
    "\n",
    "# calculate average\n",
    "avg = np.mean(FlatL2_results, axis=0)\n",
    "print('Shape of average result array:', avg.shape)\n",
    "\n",
    "# print results\n",
    "print('\\nFlatL2 results:')\n",
    "print('- Training time: ' + format(avg[0,0,0], '.2f')+ 's')\n",
    "print('- Adding time: ' + format(avg[0,0,1], '.2f')+ 's')\n",
    "print('- Total search time: ' + format(avg[0,0,2], '.2f') + 's')\n",
    "print('- Time per query: ' + format(avg[0,0,3]*1000, '.2f') + 'ms')\n",
    "print('- Memory Usage: ' + format(avg[0,0,4], '.2f') + 'MB')\n",
    "print('- Recall@1: ' + format(avg[0,0,5]*100, '.1f') + '%')\n"
   ]
  },
  {
   "cell_type": "markdown",
   "metadata": {},
   "source": [
    "#### **Individual analysis: LSH** ####\n",
    "LSH stands for Locality Sensitive Hashing. It is a family of hash functions that map similar input vectors to the same hash value with high probability. In this section, we analyze the results of LSH with different parameters."
   ]
  },
  {
   "cell_type": "code",
   "execution_count": 18,
   "metadata": {},
   "outputs": [
    {
     "name": "stdout",
     "output_type": "stream",
     "text": [
      "Shape of result array: (10, 1, 7, 6)\n",
      "Shape of average result array: (1, 7, 6)\n"
     ]
    }
   ],
   "source": [
    "# read LSH results\n",
    "LSH_results = '/home/ypx/faissTesting/benchmark/results/LSH_10M_96_10k_100.h5'\n",
    "LSH_results = io.load_results(LSH_results)\n",
    "print('Shape of result array:', LSH_results.shape) \n",
    "# first dim: number of runs\n",
    "# second dim: param1 (N/A)\n",
    "# third dim: param2 (nbits)\n",
    "# fourth dim: [training_time, adding_time, total_search_time, time_per_vec, memory, hit_rates]\n",
    "\n",
    "# calculate average\n",
    "avg = np.mean(LSH_results, axis=0)\n",
    "print('Shape of average result array:', avg.shape)"
   ]
  }
 ],
 "metadata": {
  "kernelspec": {
   "display_name": "Python 3",
   "language": "python",
   "name": "python3"
  },
  "language_info": {
   "codemirror_mode": {
    "name": "ipython",
    "version": 3
   },
   "file_extension": ".py",
   "mimetype": "text/x-python",
   "name": "python",
   "nbconvert_exporter": "python",
   "pygments_lexer": "ipython3",
   "version": "3.7.16"
  },
  "orig_nbformat": 4
 },
 "nbformat": 4,
 "nbformat_minor": 2
}
